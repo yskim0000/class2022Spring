{
  "nbformat": 4,
  "nbformat_minor": 0,
  "metadata": {
    "colab": {
      "name": "20220328.ipynb",
      "provenance": [],
      "collapsed_sections": [],
      "authorship_tag": "ABX9TyNeMITqmf6aSuBrZ1NaKX1I",
      "include_colab_link": true
    },
    "kernelspec": {
      "name": "python3",
      "display_name": "Python 3"
    },
    "language_info": {
      "name": "python"
    }
  },
  "cells": [
    {
      "cell_type": "markdown",
      "metadata": {
        "id": "view-in-github",
        "colab_type": "text"
      },
      "source": [
        "<a href=\"https://colab.research.google.com/github/yskim0000/class2022Spring/blob/main/20220328.ipynb\" target=\"_parent\"><img src=\"https://colab.research.google.com/assets/colab-badge.svg\" alt=\"Open In Colab\"/></a>"
      ]
    },
    {
      "cell_type": "code",
      "execution_count": null,
      "metadata": {
        "id": "MN2f5g9XWnEl"
      },
      "outputs": [],
      "source": [
        "!pip install gradio\n",
        "import gradio as gr\n",
        "import requests\n",
        "import pandas as pd"
      ]
    },
    {
      "cell_type": "code",
      "source": [
        "URL = ('http://apis.data.go.kr/B552584/OzYlwsndOccrrncInforInqireSvc/getOzAdvsryOccrrncInfo?year=2020&returnType=json&serviceKey=3x160Gd%2BbxNpxTuovD1nfR07GqjGYXCTNMU5xgp4FpL6Zi5NNQG6EqalDanqbauDjqPq5Jft18mruaJiS7w4aQ%3D%3D')\n",
        "response = requests.get(URL)"
      ],
      "metadata": {
        "id": "0TmZMN9fTb2T"
      },
      "execution_count": 65,
      "outputs": []
    },
    {
      "cell_type": "code",
      "source": [
        "r = response.json()\n",
        "r"
      ],
      "metadata": {
        "id": "apiMKPD8UcLJ"
      },
      "execution_count": null,
      "outputs": []
    },
    {
      "cell_type": "code",
      "source": [
        "print(type(r))"
      ],
      "metadata": {
        "id": "eoODdd5AYZJK"
      },
      "execution_count": null,
      "outputs": []
    },
    {
      "cell_type": "code",
      "source": [
        "items = r['response']['body']['items']\n",
        "\n",
        "sn = [item['sn'] for item in items]\n",
        "dataDate = [item['dataDate'] for item in items]\n",
        "districtName = [item['districtName'] for item in items]\n",
        "moveName = [item['moveName'] for item in items]\n",
        "issueVal = [item['issueVal'] for item in items]\n",
        "clearVal = [item['clearVal'] for item in items]\n",
        "maxVal = [item['maxVal'] for item in items]\n",
        "issueLvl = [item['issueLvl'] for item in items]\n",
        "\n",
        "sn = pd.Series(sn)\n",
        "dataDate = pd.Series(dataDate)\n",
        "districtName = pd.Series(districtName)\n",
        "moveName = pd.Series(moveName)\n",
        "issueVal = pd.Series(issueVal)   \n",
        "clearVal = pd.Series(clearVal)\n",
        "maxVal = pd.Series(maxVal)\n",
        "issueLvl = pd.Series(issueLvl)\n",
        "\n",
        "df = pd.DataFrame({'sn': sn, 'districtName' : districtName,'moveName': moveName, 'issueVal': issueVal, 'clearVal': clearVal, 'maxVal': maxVal ,'issueLvl' : issueLvl, 'dataDate' : dataDate })\n",
        "\n",
        "\n"
      ],
      "metadata": {
        "id": "4FvQBiqSYaOS"
      },
      "execution_count": 69,
      "outputs": []
    },
    {
      "cell_type": "code",
      "source": [
        "df"
      ],
      "metadata": {
        "id": "LoRhfmYpZZoX"
      },
      "execution_count": null,
      "outputs": []
    },
    {
      "cell_type": "code",
      "source": [
        "import gradio as gr"
      ],
      "metadata": {
        "id": "2TEFM3ilqhVU"
      },
      "execution_count": 71,
      "outputs": []
    },
    {
      "cell_type": "code",
      "source": [
        "def test(year): \n",
        "  return df\n",
        "  URL = ('http://apis.data.go.kr/B552584/OzYlwsndOccrrncInforInqireSvc/getOzAdvsryOccrrncInfo?year=+year+&returnType=json&serviceKey=3x160Gd%2BbxNpxTuovD1nfR07GqjGYXCTNMU5xgp4FpL6Zi5NNQG6EqalDanqbauDjqPq5Jft18mruaJiS7w4aQ%3D%3D')\n",
        "  \n",
        "response = requests.get(URL)\n",
        "r = response.json()\n",
        "items = r['response']['body']['items']\n",
        "\n",
        "sn = [item['sn'] for item in items]\n",
        "districtName = [item['districtName'] for item in items]\n",
        "moveName = [item['moveName'] for item in items]\n",
        "issueVal = [item['issueVal'] for item in items]\n",
        "clearVal = [item['clearVal'] for item in items]\n",
        "maxVal = [item['maxVal'] for item in items]\n",
        "issueLvl = [item['issueLvl'] for item in items]\n",
        "\n",
        "sn = pd.Series(sn)\n",
        "districtName = pd.Series(districtName)\n",
        "moveName = pd.Series(moveName)\n",
        "issueVal = pd.Series(issueVal)   \n",
        "clearVal = pd.Series(clearVal)\n",
        "maxVal = pd.Series(maxVal)\n",
        "issueLvl = pd.Series(issueLvl)\n",
        "\n",
        "df = pd.DataFrame({'sn': sn, 'districtName' : districtName,'moveName': moveName, 'issueVal': issueVal, 'clearVal': clearVal, 'maxVal': maxVal ,'issueLvl' : issueLvl })\n",
        "  \n"
      ],
      "metadata": {
        "id": "R9HPUPl7q1M_"
      },
      "execution_count": 89,
      "outputs": []
    },
    {
      "cell_type": "code",
      "source": [
        "iface = gr.Interface(test, gr.inputs.Dropdown(['2017', '2018', '2019', '2020']), outputs=['dataframe'])\n",
        "iface.launch(debug=True)"
      ],
      "metadata": {
        "id": "HSWqU4AuqofC"
      },
      "execution_count": null,
      "outputs": []
    }
  ]
}