{
  "nbformat": 4,
  "nbformat_minor": 0,
  "metadata": {
    "colab": {
      "name": "20220316.ipynb",
      "provenance": [],
      "authorship_tag": "ABX9TyPfuABxTwNmzFBm8BeeqcUV",
      "include_colab_link": true
    },
    "kernelspec": {
      "name": "python3",
      "display_name": "Python 3"
    },
    "language_info": {
      "name": "python"
    }
  },
  "cells": [
    {
      "cell_type": "markdown",
      "metadata": {
        "id": "view-in-github",
        "colab_type": "text"
      },
      "source": [
        "<a href=\"https://colab.research.google.com/github/yskim0000/class2022Spring/blob/main/20220316.ipynb\" target=\"_parent\"><img src=\"https://colab.research.google.com/assets/colab-badge.svg\" alt=\"Open In Colab\"/></a>"
      ]
    },
    {
      "cell_type": "code",
      "execution_count": null,
      "metadata": {
        "id": "nRle6Gf-pNBq"
      },
      "outputs": [],
      "source": [
        ""
      ]
    },
    {
      "cell_type": "markdown",
      "source": [
        "1. Variables  : 변수\n",
        "\n",
        "numbers 숫자\n",
        "(int : 정수, float : 실수) \n",
        "\n",
        "string 문자 \n",
        "\n",
        "list 리스트 \n",
        "\n",
        "tuple\n",
        "(list인데 내부 변수 수정이 불가)\n",
        "\n",
        "dict\n",
        "(dictionary, 순서가 X. database를 만들 때 유용하다.)"
      ],
      "metadata": {
        "id": "oJ6oo-wxq5Xa"
      }
    },
    {
      "cell_type": "markdown",
      "source": [
        "2. Indexing \n"
      ],
      "metadata": {
        "id": "Uxibw4uTrv1c"
      }
    },
    {
      "cell_type": "code",
      "source": [
        "s='abcdef'"
      ],
      "metadata": {
        "id": "WnnnLbGZrSIh"
      },
      "execution_count": 8,
      "outputs": []
    },
    {
      "cell_type": "code",
      "source": [
        "print(s[0], s[-1], s[:], s[1:3], s[1:], s[:2]) "
      ],
      "metadata": {
        "colab": {
          "base_uri": "https://localhost:8080/"
        },
        "id": "xLW-VxqKs9cE",
        "outputId": "9910eabf-cf81-4b82-c45b-dbe8fa83ab6c"
      },
      "execution_count": 10,
      "outputs": [
        {
          "output_type": "stream",
          "name": "stdout",
          "text": [
            "a f abcdef bc bcdef ab\n"
          ]
        }
      ]
    },
    {
      "cell_type": "code",
      "source": [
        "len(s) #길이\n"
      ],
      "metadata": {
        "colab": {
          "base_uri": "https://localhost:8080/"
        },
        "id": "Tmj4AV51sYWF",
        "outputId": "0571744f-b317-4b0d-d062-a008162b4dd3"
      },
      "execution_count": 9,
      "outputs": [
        {
          "output_type": "execute_result",
          "data": {
            "text/plain": [
              "6"
            ]
          },
          "metadata": {},
          "execution_count": 9
        }
      ]
    },
    {
      "cell_type": "code",
      "source": [
        "s.upper(). # s를 대문자로 만들기"
      ],
      "metadata": {
        "colab": {
          "base_uri": "https://localhost:8080/",
          "height": 36
        },
        "id": "Tv5n621ttYf_",
        "outputId": "ce2144d9-d80f-41aa-fea5-f49a0742001c"
      },
      "execution_count": 11,
      "outputs": [
        {
          "output_type": "execute_result",
          "data": {
            "text/plain": [
              "'ABCDEF'"
            ],
            "application/vnd.google.colaboratory.intrinsic+json": {
              "type": "string"
            }
          },
          "metadata": {},
          "execution_count": 11
        }
      ]
    },
    {
      "cell_type": "code",
      "source": [
        "s= 'this is a house built this year.\\n' "
      ],
      "metadata": {
        "id": "zjjvUiQ1trmb"
      },
      "execution_count": 12,
      "outputs": []
    },
    {
      "cell_type": "code",
      "source": [
        "s.find('this') #t가 몇번째로 나오는지 #띄어쓰기 포함, 0번부터 시작, 같은 단어 두번 나올 경우 먼저 것으로 표시한다."
      ],
      "metadata": {
        "colab": {
          "base_uri": "https://localhost:8080/"
        },
        "id": "WEvnyRbit1lq",
        "outputId": "6298979c-1f69-4506-d37f-9003a5667095"
      },
      "execution_count": 19,
      "outputs": [
        {
          "output_type": "execute_result",
          "data": {
            "text/plain": [
              "0"
            ]
          },
          "metadata": {},
          "execution_count": 19
        }
      ]
    },
    {
      "cell_type": "code",
      "source": [
        "s.strip() #/n이나 처음과 끝의 whitespace 등을 없애줌"
      ],
      "metadata": {
        "colab": {
          "base_uri": "https://localhost:8080/",
          "height": 36
        },
        "id": "I0bozHltuHO5",
        "outputId": "c09723ad-c8d3-46bf-ccc4-3b1909476ce6"
      },
      "execution_count": 18,
      "outputs": [
        {
          "output_type": "execute_result",
          "data": {
            "text/plain": [
              "'this is a house built this year.'"
            ],
            "application/vnd.google.colaboratory.intrinsic+json": {
              "type": "string"
            }
          },
          "metadata": {},
          "execution_count": 18
        }
      ]
    },
    {
      "cell_type": "code",
      "source": [
        "tokens = s.split(' ') #빈칸이 있으면 빈칸을 중심으로 쪼개서 list로 만들어라.  #!!!\n",
        "tokens\n",
        " "
      ],
      "metadata": {
        "colab": {
          "base_uri": "https://localhost:8080/"
        },
        "id": "ttevSiZluY9p",
        "outputId": "feed8c3e-0d6b-4be6-aaca-02d60fe1024f"
      },
      "execution_count": 24,
      "outputs": [
        {
          "output_type": "execute_result",
          "data": {
            "text/plain": [
              "['this', 'is', 'a', 'house', 'built', 'this', 'year.\\n']"
            ]
          },
          "metadata": {},
          "execution_count": 24
        }
      ]
    },
    {
      "cell_type": "code",
      "source": [
        "s=' '.join(tokens) #다시 합쳐주는 것 #!!!\n",
        "s"
      ],
      "metadata": {
        "colab": {
          "base_uri": "https://localhost:8080/",
          "height": 36
        },
        "id": "veQVUZJ3v6Iy",
        "outputId": "dc3d8397-da96-43fa-cc66-d52ff1d5042f"
      },
      "execution_count": 26,
      "outputs": [
        {
          "output_type": "execute_result",
          "data": {
            "text/plain": [
              "'this is a house built this year.\\n'"
            ],
            "application/vnd.google.colaboratory.intrinsic+json": {
              "type": "string"
            }
          },
          "metadata": {},
          "execution_count": 26
        }
      ]
    },
    {
      "cell_type": "code",
      "source": [
        "s.replace('this','that') #this를 that으로 변경"
      ],
      "metadata": {
        "colab": {
          "base_uri": "https://localhost:8080/",
          "height": 36
        },
        "id": "7RlqxM9DwNxy",
        "outputId": "83f8a6ae-fc44-4a44-a3be-fd50825c781e"
      },
      "execution_count": 27,
      "outputs": [
        {
          "output_type": "execute_result",
          "data": {
            "text/plain": [
              "'that is a house built that year.\\n'"
            ],
            "application/vnd.google.colaboratory.intrinsic+json": {
              "type": "string"
            }
          },
          "metadata": {},
          "execution_count": 27
        }
      ]
    },
    {
      "cell_type": "markdown",
      "source": [
        "<함수 만들기>\n",
        "function\n",
        "\n",
        "def 함수이름 (입력변수):\n",
        "\n",
        "return 출력변수"
      ],
      "metadata": {
        "id": "kBwF2vWYwelr"
      }
    },
    {
      "cell_type": "markdown",
      "source": [
        "[syntax]\n",
        "\n",
        "1. 반복문 ***for*** / while\n",
        "\n"
      ],
      "metadata": {
        "id": "hnUFTedkw0zf"
      }
    },
    {
      "cell_type": "code",
      "source": [
        "#for 변수 in 변수 : a 에 있는 것을 처음부터 하나씩 받아서 돌린다. \n",
        "\n",
        "a=[1,2,3,4] #숫자 말고 string이 들어가도 된다.\n",
        "for i in a:\n",
        "  print(i)"
      ],
      "metadata": {
        "colab": {
          "base_uri": "https://localhost:8080/"
        },
        "id": "tMWadWAPwhtJ",
        "outputId": "2b0de10f-9000-4332-e276-6b715778fbd5"
      },
      "execution_count": 30,
      "outputs": [
        {
          "output_type": "stream",
          "name": "stdout",
          "text": [
            "1\n",
            "2\n",
            "3\n",
            "4\n"
          ]
        }
      ]
    },
    {
      "cell_type": "code",
      "source": [
        "#for 변수 in range(숫자) \n",
        "\n",
        "a =[1, 2, 3, 4]\n",
        "for i in range(3):  #range(3)은 0,1,2\n",
        "  print (a[i]) "
      ],
      "metadata": {
        "colab": {
          "base_uri": "https://localhost:8080/"
        },
        "id": "8OghAPAbxalU",
        "outputId": "98e0ddca-cb6d-47bc-c2e4-5d6a193d38f7"
      },
      "execution_count": 55,
      "outputs": [
        {
          "output_type": "stream",
          "name": "stdout",
          "text": [
            "1\n",
            "2\n",
            "3\n"
          ]
        }
      ]
    },
    {
      "cell_type": "code",
      "source": [
        "for i in range(len(a)): \n",
        "  print (a[i])"
      ],
      "metadata": {
        "colab": {
          "base_uri": "https://localhost:8080/"
        },
        "id": "fzceazKQzhBC",
        "outputId": "2671b475-df7e-446d-93c8-05069e133b8b"
      },
      "execution_count": 54,
      "outputs": [
        {
          "output_type": "stream",
          "name": "stdout",
          "text": [
            "1\n",
            "2\n",
            "3\n",
            "4\n"
          ]
        }
      ]
    },
    {
      "cell_type": "markdown",
      "source": [
        "2. 조건문 ***if*** / switch"
      ],
      "metadata": {
        "id": "MnHegHxE0B-e"
      }
    },
    {
      "cell_type": "code",
      "source": [
        "a=0 #여기서 = 는 assign하는 것. #같다 의미의 기호는 == #다르다 의미의 기호는 !="
      ],
      "metadata": {
        "id": "Rx4VIXIb0AFQ"
      },
      "execution_count": 56,
      "outputs": []
    },
    {
      "cell_type": "code",
      "source": [
        "if a==0:\n",
        "  print(a)"
      ],
      "metadata": {
        "colab": {
          "base_uri": "https://localhost:8080/"
        },
        "id": "eCXiMij20cUd",
        "outputId": "cd5d2359-e674-4cc7-b896-b100584bc4bc"
      },
      "execution_count": 57,
      "outputs": [
        {
          "output_type": "stream",
          "name": "stdout",
          "text": [
            "0\n"
          ]
        }
      ]
    },
    {
      "cell_type": "code",
      "source": [
        "if a!=0:\n",
        "  print(a)  #값 없음"
      ],
      "metadata": {
        "id": "mPVjZ2ly0g2U"
      },
      "execution_count": 59,
      "outputs": []
    },
    {
      "cell_type": "code",
      "source": [
        "a=0\n",
        "if a==0:\n",
        "  print (a)\n",
        "else:\n",
        "    print(a+1)"
      ],
      "metadata": {
        "colab": {
          "base_uri": "https://localhost:8080/"
        },
        "id": "23MeVgj_0m9b",
        "outputId": "f5cd2014-267b-4d7c-e89c-b2259c1558d5"
      },
      "execution_count": 64,
      "outputs": [
        {
          "output_type": "stream",
          "name": "stdout",
          "text": [
            "0\n"
          ]
        }
      ]
    },
    {
      "cell_type": "code",
      "source": [
        "if a!=0:\n",
        "  print(a)\n",
        "else:\n",
        "  print(a+1)"
      ],
      "metadata": {
        "colab": {
          "base_uri": "https://localhost:8080/"
        },
        "id": "T1ofL2jt1Inp",
        "outputId": "f964d72e-13e3-41cd-f307-f44fb3f76a5f"
      },
      "execution_count": 65,
      "outputs": [
        {
          "output_type": "stream",
          "name": "stdout",
          "text": [
            "1\n"
          ]
        }
      ]
    },
    {
      "cell_type": "markdown",
      "source": [
        "***for의 중첩적 사용 ***"
      ],
      "metadata": {
        "id": "rKcIDr531SbN"
      }
    },
    {
      "cell_type": "code",
      "source": [
        "for i in range (1,3):  #여기서 range (1,3)은 1,2\n",
        "  for j in range (3,5):     #range (3,5)는 3,4 \n",
        "    print(i*j)           # 값은 1*2,1*3,2*3,2*4"
      ],
      "metadata": {
        "colab": {
          "base_uri": "https://localhost:8080/"
        },
        "id": "WPwI3mVN1XK3",
        "outputId": "5d4346a4-7ad4-42f7-d8cb-4b67bb7be016"
      },
      "execution_count": 66,
      "outputs": [
        {
          "output_type": "stream",
          "name": "stdout",
          "text": [
            "3\n",
            "4\n",
            "6\n",
            "8\n"
          ]
        }
      ]
    },
    {
      "cell_type": "code",
      "source": [
        "for i in range(1,3):\n",
        "  for j in range(3,5):\n",
        "    if j>=4:            #j에서 3 제외\n",
        "      print(i*j)        \n"
      ],
      "metadata": {
        "colab": {
          "base_uri": "https://localhost:8080/"
        },
        "id": "pqrirhXU19qR",
        "outputId": "ec6771ff-5252-452f-fe63-e5d7561a70a1"
      },
      "execution_count": 71,
      "outputs": [
        {
          "output_type": "stream",
          "name": "stdout",
          "text": [
            "4\n",
            "8\n"
          ]
        }
      ]
    },
    {
      "cell_type": "markdown",
      "source": [
        "list comprehension"
      ],
      "metadata": {
        "id": "TaaC6q7O2qIM"
      }
    },
    {
      "cell_type": "code",
      "source": [
        "a=[1,2,3,4]\n",
        "b=[i for i in a if i>=2] #for 루프에서 2,3,4만 결과 ㅇ \n",
        "b"
      ],
      "metadata": {
        "colab": {
          "base_uri": "https://localhost:8080/"
        },
        "id": "i0p1gMyu2TJ9",
        "outputId": "0dfe076c-53dd-4d9c-c763-ce40f2c3f3ab"
      },
      "execution_count": 72,
      "outputs": [
        {
          "output_type": "execute_result",
          "data": {
            "text/plain": [
              "[2, 3, 4]"
            ]
          },
          "metadata": {},
          "execution_count": 72
        }
      ]
    },
    {
      "cell_type": "code",
      "source": [
        "a=['red','blue','green','purple']\n",
        "b=[i for i in a if len(i)>=4]\n",
        "b"
      ],
      "metadata": {
        "colab": {
          "base_uri": "https://localhost:8080/"
        },
        "id": "yHxW-myL2oZO",
        "outputId": "c0416c67-e9db-4ee4-e60d-335fc0b70f22"
      },
      "execution_count": 73,
      "outputs": [
        {
          "output_type": "execute_result",
          "data": {
            "text/plain": [
              "['blue', 'green', 'purple']"
            ]
          },
          "metadata": {},
          "execution_count": 73
        }
      ]
    },
    {
      "cell_type": "markdown",
      "source": [
        "dict comprehension"
      ],
      "metadata": {
        "id": "QRyxZRur3KHP"
      }
    },
    {
      "cell_type": "code",
      "source": [
        "a=['red','blue','green','purple']\n",
        "b=[1,2,3,4]\n",
        "c={a[i]:b[i] for i in range(4)}\n",
        "c                                     #결과값의 배열 순서는 상관 없음"
      ],
      "metadata": {
        "colab": {
          "base_uri": "https://localhost:8080/"
        },
        "id": "6FkSEKFn3Ly2",
        "outputId": "151fcb0d-7181-404a-9bf3-95d1de3e30ce"
      },
      "execution_count": 74,
      "outputs": [
        {
          "output_type": "execute_result",
          "data": {
            "text/plain": [
              "{'blue': 2, 'green': 3, 'purple': 4, 'red': 1}"
            ]
          },
          "metadata": {},
          "execution_count": 74
        }
      ]
    },
    {
      "cell_type": "markdown",
      "source": [
        "Packages\n",
        "\n",
        "1. install : 별로 안쓰이는 함수는 install 후 import 해줘야 함.\n",
        "\n",
        "2. import : 창고에 있는 함수 불러오기\n",
        "\n",
        "3. built in : 내장된 함수 "
      ],
      "metadata": {
        "id": "crrfaKQ63ljB"
      }
    },
    {
      "cell_type": "markdown",
      "source": [
        "**1) numpy**"
      ],
      "metadata": {
        "id": "HsNZtdfy3-mX"
      }
    },
    {
      "cell_type": "code",
      "source": [
        "import numpy as np"
      ],
      "metadata": {
        "id": "hFQp_IxS4Cvi"
      },
      "execution_count": 78,
      "outputs": []
    },
    {
      "cell_type": "markdown",
      "source": [
        "creat np array (matrices 행렬)"
      ],
      "metadata": {
        "id": "GcBuroPa4jqW"
      }
    },
    {
      "cell_type": "code",
      "source": [
        "x=np.array([1,2,3]) #list를 숫자로 쓰기 위해서는 반드시 이 array를 해주어야 한다."
      ],
      "metadata": {
        "id": "5YCeLssn4YuD"
      },
      "execution_count": 80,
      "outputs": []
    },
    {
      "cell_type": "code",
      "source": [
        "print(x)"
      ],
      "metadata": {
        "colab": {
          "base_uri": "https://localhost:8080/"
        },
        "id": "Ncrp_cAJ41Z2",
        "outputId": "82850944-d1ed-4108-9f4a-29adb70a5ab5"
      },
      "execution_count": 81,
      "outputs": [
        {
          "output_type": "stream",
          "name": "stdout",
          "text": [
            "[1 2 3]\n"
          ]
        }
      ]
    },
    {
      "cell_type": "code",
      "source": [
        "print(type(x))"
      ],
      "metadata": {
        "colab": {
          "base_uri": "https://localhost:8080/"
        },
        "id": "FmrEdQjD44Yc",
        "outputId": "e1ce195d-d402-452d-975b-9e53e2b7d443"
      },
      "execution_count": 82,
      "outputs": [
        {
          "output_type": "stream",
          "name": "stdout",
          "text": [
            "<class 'numpy.ndarray'>\n"
          ]
        }
      ]
    },
    {
      "cell_type": "code",
      "source": [
        "print (x.shape)  #(3,) 1d라는 것"
      ],
      "metadata": {
        "colab": {
          "base_uri": "https://localhost:8080/"
        },
        "id": "kcqjqFcL4-Ks",
        "outputId": "f21c4519-2eab-4977-d903-37c39df2a89e"
      },
      "execution_count": 83,
      "outputs": [
        {
          "output_type": "stream",
          "name": "stdout",
          "text": [
            "(3,)\n"
          ]
        }
      ]
    },
    {
      "cell_type": "code",
      "source": [
        "x=np.linspace(0,10,6)      #0부터 10(포함)에서 6개의 숫자를 일정 간격으로 만들어라\n",
        "print (x)"
      ],
      "metadata": {
        "colab": {
          "base_uri": "https://localhost:8080/"
        },
        "id": "ZnRCuJqZ5GL3",
        "outputId": "920fb10e-1ee2-45a1-f479-cccf70fdc880"
      },
      "execution_count": 86,
      "outputs": [
        {
          "output_type": "stream",
          "name": "stdout",
          "text": [
            "[ 0.  2.  4.  6.  8. 10.]\n"
          ]
        }
      ]
    },
    {
      "cell_type": "code",
      "source": [
        "x=np.ones([2,2,3])    #이 형태의 행렬을 1(ones)로만 채운다. #...\n",
        "print(x)\n",
        "print(type(x))\n",
        "print(x.shape)"
      ],
      "metadata": {
        "colab": {
          "base_uri": "https://localhost:8080/"
        },
        "id": "kWBWFN0c5ZMC",
        "outputId": "6a6a669f-b545-4354-dddd-130e4ccd8c87"
      },
      "execution_count": 101,
      "outputs": [
        {
          "output_type": "stream",
          "name": "stdout",
          "text": [
            "[[[1. 1. 1.]\n",
            "  [1. 1. 1.]]\n",
            "\n",
            " [[1. 1. 1.]\n",
            "  [1. 1. 1.]]]\n",
            "<class 'numpy.ndarray'>\n",
            "(2, 2, 3)\n"
          ]
        }
      ]
    },
    {
      "cell_type": "markdown",
      "source": [
        "creat random numbers"
      ],
      "metadata": {
        "id": "oBFxS6777zPx"
      }
    },
    {
      "cell_type": "code",
      "source": [
        "np.random.normal(0,1,[2,3,4])   #여기서 [2,3,4]는 이 행렬의 구조. 3d  #..."
      ],
      "metadata": {
        "colab": {
          "base_uri": "https://localhost:8080/"
        },
        "id": "eVyCk5lA7py8",
        "outputId": "670c81f2-3e50-46d3-e8fd-cebb89a7f10f"
      },
      "execution_count": 102,
      "outputs": [
        {
          "output_type": "execute_result",
          "data": {
            "text/plain": [
              "array([[[ 0.06364188, -0.91885964, -0.34773086, -0.77269662],\n",
              "        [-1.21924843,  0.11691431, -0.40797724, -0.11884991],\n",
              "        [ 0.04969867, -0.03323881,  0.1245446 , -0.07697571]],\n",
              "\n",
              "       [[-1.36642432, -0.57024114,  0.38552545,  0.78161301],\n",
              "        [ 0.58770772,  0.23568026,  1.12460626, -0.00271886],\n",
              "        [-0.11620192, -0.68853446,  0.01364374, -0.18487083]]])"
            ]
          },
          "metadata": {},
          "execution_count": 102
        }
      ]
    },
    {
      "cell_type": "code",
      "source": [
        "import matplotlib.pyplot as plt"
      ],
      "metadata": {
        "id": "D2puKYeP8Fg5"
      },
      "execution_count": 104,
      "outputs": []
    },
    {
      "cell_type": "code",
      "source": [
        "x = np.random.normal(0, 1, 100) #100이니까 1d 행렬\n",
        "print(x)\n",
        "plt.hist(x, bins=10)    #hist : 히스토그램 통해 ploting    #... "
      ],
      "metadata": {
        "colab": {
          "base_uri": "https://localhost:8080/",
          "height": 658
        },
        "id": "zMMFlPW78Tug",
        "outputId": "489241ab-6bf2-42ba-d87c-236cf19f56af"
      },
      "execution_count": 107,
      "outputs": [
        {
          "output_type": "stream",
          "name": "stdout",
          "text": [
            "[-1.32722858 -0.6886626   0.6956091  -0.25089517  0.43076189 -0.18360774\n",
            " -0.77622506  0.52204001  0.90514054  0.27331513  0.80433406 -1.20949069\n",
            " -0.08240362  1.92471016  1.53620482  1.77444486 -0.39227464 -0.57458667\n",
            " -0.13897395 -0.47668032  0.26795644 -1.2607938   0.21632162 -0.89131798\n",
            " -0.23025253  1.34689306  0.38045726  0.55668201  1.66844015  1.2065518\n",
            "  0.46811249 -0.9525694  -0.45648738  0.71780368  2.37696439  0.74259066\n",
            " -0.73688908  0.34457898 -0.13796895  0.66262009  0.73348485 -1.29055187\n",
            "  0.52810494 -1.64024308 -0.54838503 -0.46689406  1.02283872 -1.44460672\n",
            "  1.71903335  1.14741948  0.17861978  1.4709919   0.6192649  -0.23782673\n",
            "  0.18893318 -1.71813615  0.89627668 -1.90916746 -0.20896133  1.11883974\n",
            " -2.22898659  0.15062669  0.6983742  -0.31981658 -0.81637484  0.7541975\n",
            "  0.21004968 -0.14867555 -0.8477243   0.6879735   1.81874413 -0.22141671\n",
            " -0.31006297  0.28638959 -0.3806461   1.41370903  1.11405985  0.50521749\n",
            " -0.3724607  -1.37118936  0.76167015 -1.49928174 -1.17898366 -0.32375709\n",
            "  0.47863949 -0.92286678  1.55819925  1.22075914  1.29522056 -0.70319682\n",
            " -0.66064901  1.07676795  0.4685729  -1.3514931  -1.00189718  1.51234424\n",
            " -1.65257506  0.45306354  1.32754714  1.24597653]\n"
          ]
        },
        {
          "output_type": "execute_result",
          "data": {
            "text/plain": [
              "(array([ 2.,  8.,  9., 12., 15., 18., 14., 12.,  8.,  2.]),\n",
              " array([-2.22898659, -1.76839149, -1.30779639, -0.8472013 , -0.3866062 ,\n",
              "         0.0739889 ,  0.534584  ,  0.9951791 ,  1.45577419,  1.91636929,\n",
              "         2.37696439]),\n",
              " <a list of 10 Patch objects>)"
            ]
          },
          "metadata": {},
          "execution_count": 107
        },
        {
          "output_type": "display_data",
          "data": {
            "text/plain": [
              "<Figure size 432x288 with 1 Axes>"
            ],
            "image/png": "[encoded data removed]"
          },
          "metadata": {
            "needs_background": "light"
          }
        }
      ]
    },
    {
      "cell_type": "markdown",
      "source": [
        "***Generate a Sine Curve***"
      ],
      "metadata": {
        "id": "UO6Df8_C8_nd"
      }
    },
    {
      "cell_type": "code",
      "source": [
        "plt.figure()\n",
        "theta1=np.linspace(0, 2*np.pi, 100)  #np.pi는 파이   #theta1의 개수 100개!!!    #입력\n",
        "s1=np.sin(theta1)                                 #S1의 숫자 개수 100개!!!     #출력\n",
        "theta2=np.linspace(0, 2*np.pi, 100)+np.pi/2                                 #입력\n",
        "s2=np.sin(theta2)       #sine 곡선 만들어라.                                   #출력\n",
        "\n",
        "plt.subplot(2, 1, 1)   #subplot : plot을 만들어라.  # (rows, columns, panel number)\n",
        "plt.plot(theta1, s1, '.')   #.으로 표현해라\n",
        "plt.subplot(2, 1, 2)  \n",
        "plt.plot(theta2, s2, '.')\n"
      ],
      "metadata": {
        "colab": {
          "base_uri": "https://localhost:8080/",
          "height": 283
        },
        "id": "Ul-5hRJc82b3",
        "outputId": "6d63bd5d-f313-4500-d032-a97ccd28d765"
      },
      "execution_count": 119,
      "outputs": [
        {
          "output_type": "execute_result",
          "data": {
            "text/plain": [
              "[<matplotlib.lines.Line2D at 0x7f9fc7fa6e10>]"
            ]
          },
          "metadata": {},
          "execution_count": 119
        },
        {
          "output_type": "display_data",
          "data": {
            "text/plain": [
              "<Figure size 432x288 with 2 Axes>"
            ],
            "image/png": "[encoded data removed]"
          },
          "metadata": {
            "needs_background": "light"
          }
        }
      ]
    },
    {
      "cell_type": "markdown",
      "source": [
        "Correlation coefficient\n",
        "\n",
        " r로 표현   ㅣrㅣ 이 1에 가까워질수록 선에 가깝고\n",
        "           ㅣrㅣ 이 0 에 가까워질수록 두리뭉실하다. \n",
        "\n",
        " r이 +면 정비례, -면 반비례"
      ],
      "metadata": {
        "id": "Zeel3KXq_IF3"
      }
    },
    {
      "cell_type": "code",
      "source": [
        "np.corrcoef(s1,s2)  #값에서 1은 항상 1로 나와서 안봐도 되고, 2.419는 둘이 똑같이 나와서 그냥 2.419 만 보면 됨. "
      ],
      "metadata": {
        "colab": {
          "base_uri": "https://localhost:8080/"
        },
        "id": "yA7l0YOH_HBx",
        "outputId": "b3357d47-338d-46a5-c3e4-f304be226e2e"
      },
      "execution_count": 122,
      "outputs": [
        {
          "output_type": "execute_result",
          "data": {
            "text/plain": [
              "array([[1.00000000e+00, 2.41915449e-17],\n",
              "       [2.41915449e-17, 1.00000000e+00]])"
            ]
          },
          "metadata": {},
          "execution_count": 122
        }
      ]
    }
  ]
}