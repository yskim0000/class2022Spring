{
  "nbformat": 4,
  "nbformat_minor": 0,
  "metadata": {
    "colab": {
      "name": "20220328.ipynb",
      "provenance": [],
      "collapsed_sections": [],
      "authorship_tag": "ABX9TyNeMITqmf6aSuBrZ1NaKX1I",
      "include_colab_link": true
    },
    "kernelspec": {
      "name": "python3",
      "display_name": "Python 3"
    },
    "language_info": {
      "name": "python"
    }
  },
  "cells": [
    {
      "cell_type": "markdown",
      "metadata": {
        "id": "view-in-github",
        "colab_type": "text"
      },
      "source": [
        "<a href=\"https://colab.research.google.com/github/yskim0000/class2022Spring/blob/main/20220328.ipynb\" target=\"_parent\"><img src=\"https://colab.research.google.com/assets/colab-badge.svg\" alt=\"Open In Colab\"/></a>"
      ]
    },
    {
      "cell_type": "code",
      "execution_count": null,
      "metadata": {
        "id": "MN2f5g9XWnEl"
      },
      "outputs": [],
      "source": [
        "!pip install gradio\n",
        "import gradio as gr\n",
        "import requests\n",
        "import pandas as pd"
      ]
    },
    {
      "cell_type": "code",
      "source": [
        "URL = ('http://apis.data.go.kr/B552584/OzYlwsndOccrrncInforInqireSvc/getOzAdvsryOccrrncInfo?year=2020&returnType=json&serviceKey=3x160Gd%2BbxNpxTuovD1nfR07GqjGYXCTNMU5xgp4FpL6Zi5NNQG6EqalDanqbauDjqPq5Jft18mruaJiS7w4aQ%3D%3D')\n",
        "response = requests.get(URL)"
      ],
      "metadata": {
        "id": "0TmZMN9fTb2T"
      },
      "execution_count": 65,
      "outputs": []
    },
    {
      "cell_type": "code",
      "source": [
        "r = response.json()\n",
        "r"
      ],
      "metadata": {
        "id": "apiMKPD8UcLJ"
      },
      "execution_count": null,
      "outputs": []
    },
    {
      "cell_type": "code",
      "source": [
        "print(type(r))"
      ],
      "metadata": {
        "colab": {
          "base_uri": "https://localhost:8080/"
        },
        "id": "eoODdd5AYZJK",
        "outputId": "d48cf6a1-6d9b-4804-af8d-0bca88dd03a4"
      },
      "execution_count": 67,
      "outputs": [
        {
          "output_type": "stream",
          "name": "stdout",
          "text": [
            "<class 'dict'>\n"
          ]
        }
      ]
    },
    {
      "cell_type": "code",
      "source": [
        "items = r['response']['body']['items']\n",
        "\n",
        "sn = [item['sn'] for item in items]\n",
        "dataDate = [item['dataDate'] for item in items]\n",
        "districtName = [item['districtName'] for item in items]\n",
        "moveName = [item['moveName'] for item in items]\n",
        "issueVal = [item['issueVal'] for item in items]\n",
        "clearVal = [item['clearVal'] for item in items]\n",
        "maxVal = [item['maxVal'] for item in items]\n",
        "issueLvl = [item['issueLvl'] for item in items]\n",
        "\n",
        "sn = pd.Series(sn)\n",
        "dataDate = pd.Series(dataDate)\n",
        "districtName = pd.Series(districtName)\n",
        "moveName = pd.Series(moveName)\n",
        "issueVal = pd.Series(issueVal)   \n",
        "clearVal = pd.Series(clearVal)\n",
        "maxVal = pd.Series(maxVal)\n",
        "issueLvl = pd.Series(issueLvl)\n",
        "\n",
        "df = pd.DataFrame({'sn': sn, 'districtName' : districtName,'moveName': moveName, 'issueVal': issueVal, 'clearVal': clearVal, 'maxVal': maxVal ,'issueLvl' : issueLvl, 'dataDate' : dataDate })\n",
        "\n",
        "\n"
      ],
      "metadata": {
        "id": "4FvQBiqSYaOS"
      },
      "execution_count": 69,
      "outputs": []
    },
    {
      "cell_type": "code",
      "source": [
        "df"
      ],
      "metadata": {
        "colab": {
          "base_uri": "https://localhost:8080/",
          "height": 363
        },
        "id": "LoRhfmYpZZoX",
        "outputId": "683abcd9-942e-458a-9240-8f61f6a11f5e"
      },
      "execution_count": 70,
      "outputs": [
        {
          "output_type": "execute_result",
          "data": {
            "text/plain": [
              "    sn districtName moveName issueVal clearVal maxVal issueLvl    dataDate\n",
              "0  295           충남      서산시    0.137    0.103  0.137     None  2020-09-28\n",
              "1  296           충남      당진시    0.126    0.087  0.126     None  2020-09-28\n",
              "2  294           경북      봉화군    0.153    0.078  0.153     None  2020-09-20\n",
              "3  292           전남      광양시    0.122    0.100  0.122     None  2020-09-10\n",
              "4  291           전남      여수시    0.122    0.093  0.122     None  2020-09-10\n",
              "5  290           제주     제주권역    0.125    0.097  0.125     None  2020-09-08\n",
              "6  289           경북      포항시     0.12    0.089   0.12     None  2020-09-04\n",
              "7  286           전남      여수시    0.133    0.092  0.133     None  2020-08-30\n",
              "8  288           충남      당진시    0.120    0.102  0.120     None  2020-08-30\n",
              "9  287           경남      남해군    0.138    0.115  0.138     None  2020-08-30"
            ],
            "text/html": [
              "\n",
              "  <div id=\"df-f09d5f8e-530b-4bf9-b7e9-2575a393c6b5\">\n",
              "    <div class=\"colab-df-container\">\n",
              "      <div>\n",
              "<style scoped>\n",
              "    .dataframe tbody tr th:only-of-type {\n",
              "        vertical-align: middle;\n",
              "    }\n",
              "\n",
              "    .dataframe tbody tr th {\n",
              "        vertical-align: top;\n",
              "    }\n",
              "\n",
              "    .dataframe thead th {\n",
              "        text-align: right;\n",
              "    }\n",
              "</style>\n",
              "<table border=\"1\" class=\"dataframe\">\n",
              "  <thead>\n",
              "    <tr style=\"text-align: right;\">\n",
              "      <th></th>\n",
              "      <th>sn</th>\n",
              "      <th>districtName</th>\n",
              "      <th>moveName</th>\n",
              "      <th>issueVal</th>\n",
              "      <th>clearVal</th>\n",
              "      <th>maxVal</th>\n",
              "      <th>issueLvl</th>\n",
              "      <th>dataDate</th>\n",
              "    </tr>\n",
              "  </thead>\n",
              "  <tbody>\n",
              "    <tr>\n",
              "      <th>0</th>\n",
              "      <td>295</td>\n",
              "      <td>충남</td>\n",
              "      <td>서산시</td>\n",
              "      <td>0.137</td>\n",
              "      <td>0.103</td>\n",
              "      <td>0.137</td>\n",
              "      <td>None</td>\n",
              "      <td>2020-09-28</td>\n",
              "    </tr>\n",
              "    <tr>\n",
              "      <th>1</th>\n",
              "      <td>296</td>\n",
              "      <td>충남</td>\n",
              "      <td>당진시</td>\n",
              "      <td>0.126</td>\n",
              "      <td>0.087</td>\n",
              "      <td>0.126</td>\n",
              "      <td>None</td>\n",
              "      <td>2020-09-28</td>\n",
              "    </tr>\n",
              "    <tr>\n",
              "      <th>2</th>\n",
              "      <td>294</td>\n",
              "      <td>경북</td>\n",
              "      <td>봉화군</td>\n",
              "      <td>0.153</td>\n",
              "      <td>0.078</td>\n",
              "      <td>0.153</td>\n",
              "      <td>None</td>\n",
              "      <td>2020-09-20</td>\n",
              "    </tr>\n",
              "    <tr>\n",
              "      <th>3</th>\n",
              "      <td>292</td>\n",
              "      <td>전남</td>\n",
              "      <td>광양시</td>\n",
              "      <td>0.122</td>\n",
              "      <td>0.100</td>\n",
              "      <td>0.122</td>\n",
              "      <td>None</td>\n",
              "      <td>2020-09-10</td>\n",
              "    </tr>\n",
              "    <tr>\n",
              "      <th>4</th>\n",
              "      <td>291</td>\n",
              "      <td>전남</td>\n",
              "      <td>여수시</td>\n",
              "      <td>0.122</td>\n",
              "      <td>0.093</td>\n",
              "      <td>0.122</td>\n",
              "      <td>None</td>\n",
              "      <td>2020-09-10</td>\n",
              "    </tr>\n",
              "    <tr>\n",
              "      <th>5</th>\n",
              "      <td>290</td>\n",
              "      <td>제주</td>\n",
              "      <td>제주권역</td>\n",
              "      <td>0.125</td>\n",
              "      <td>0.097</td>\n",
              "      <td>0.125</td>\n",
              "      <td>None</td>\n",
              "      <td>2020-09-08</td>\n",
              "    </tr>\n",
              "    <tr>\n",
              "      <th>6</th>\n",
              "      <td>289</td>\n",
              "      <td>경북</td>\n",
              "      <td>포항시</td>\n",
              "      <td>0.12</td>\n",
              "      <td>0.089</td>\n",
              "      <td>0.12</td>\n",
              "      <td>None</td>\n",
              "      <td>2020-09-04</td>\n",
              "    </tr>\n",
              "    <tr>\n",
              "      <th>7</th>\n",
              "      <td>286</td>\n",
              "      <td>전남</td>\n",
              "      <td>여수시</td>\n",
              "      <td>0.133</td>\n",
              "      <td>0.092</td>\n",
              "      <td>0.133</td>\n",
              "      <td>None</td>\n",
              "      <td>2020-08-30</td>\n",
              "    </tr>\n",
              "    <tr>\n",
              "      <th>8</th>\n",
              "      <td>288</td>\n",
              "      <td>충남</td>\n",
              "      <td>당진시</td>\n",
              "      <td>0.120</td>\n",
              "      <td>0.102</td>\n",
              "      <td>0.120</td>\n",
              "      <td>None</td>\n",
              "      <td>2020-08-30</td>\n",
              "    </tr>\n",
              "    <tr>\n",
              "      <th>9</th>\n",
              "      <td>287</td>\n",
              "      <td>경남</td>\n",
              "      <td>남해군</td>\n",
              "      <td>0.138</td>\n",
              "      <td>0.115</td>\n",
              "      <td>0.138</td>\n",
              "      <td>None</td>\n",
              "      <td>2020-08-30</td>\n",
              "    </tr>\n",
              "  </tbody>\n",
              "</table>\n",
              "</div>\n",
              "      <button class=\"colab-df-convert\" onclick=\"convertToInteractive('df-f09d5f8e-530b-4bf9-b7e9-2575a393c6b5')\"\n",
              "              title=\"Convert this dataframe to an interactive table.\"\n",
              "              style=\"display:none;\">\n",
              "        \n",
              "  <svg xmlns=\"http://www.w3.org/2000/svg\" height=\"24px\"viewBox=\"0 0 24 24\"\n",
              "       width=\"24px\">\n",
              "    <path d=\"M0 0h24v24H0V0z\" fill=\"none\"/>\n",
              "    <path d=\"M18.56 5.44l.94 2.06.94-2.06 2.06-.94-2.06-.94-.94-2.06-.94 2.06-2.06.94zm-11 1L8.5 8.5l.94-2.06 2.06-.94-2.06-.94L8.5 2.5l-.94 2.06-2.06.94zm10 10l.94 2.06.94-2.06 2.06-.94-2.06-.94-.94-2.06-.94 2.06-2.06.94z\"/><path d=\"M17.41 7.96l-1.37-1.37c-.4-.4-.92-.59-1.43-.59-.52 0-1.04.2-1.43.59L10.3 9.45l-7.72 7.72c-.78.78-.78 2.05 0 2.83L4 21.41c.39.39.9.59 1.41.59.51 0 1.02-.2 1.41-.59l7.78-7.78 2.81-2.81c.8-.78.8-2.07 0-2.86zM5.41 20L4 18.59l7.72-7.72 1.47 1.35L5.41 20z\"/>\n",
              "  </svg>\n",
              "      </button>\n",
              "      \n",
              "  <style>\n",
              "    .colab-df-container {\n",
              "      display:flex;\n",
              "      flex-wrap:wrap;\n",
              "      gap: 12px;\n",
              "    }\n",
              "\n",
              "    .colab-df-convert {\n",
              "      background-color: #E8F0FE;\n",
              "      border: none;\n",
              "      border-radius: 50%;\n",
              "      cursor: pointer;\n",
              "      display: none;\n",
              "      fill: #1967D2;\n",
              "      height: 32px;\n",
              "      padding: 0 0 0 0;\n",
              "      width: 32px;\n",
              "    }\n",
              "\n",
              "    .colab-df-convert:hover {\n",
              "      background-color: #E2EBFA;\n",
              "      box-shadow: 0px 1px 2px rgba(60, 64, 67, 0.3), 0px 1px 3px 1px rgba(60, 64, 67, 0.15);\n",
              "      fill: #174EA6;\n",
              "    }\n",
              "\n",
              "    [theme=dark] .colab-df-convert {\n",
              "      background-color: #3B4455;\n",
              "      fill: #D2E3FC;\n",
              "    }\n",
              "\n",
              "    [theme=dark] .colab-df-convert:hover {\n",
              "      background-color: #434B5C;\n",
              "      box-shadow: 0px 1px 3px 1px rgba(0, 0, 0, 0.15);\n",
              "      filter: drop-shadow(0px 1px 2px rgba(0, 0, 0, 0.3));\n",
              "      fill: #FFFFFF;\n",
              "    }\n",
              "  </style>\n",
              "\n",
              "      <script>\n",
              "        const buttonEl =\n",
              "          document.querySelector('#df-f09d5f8e-530b-4bf9-b7e9-2575a393c6b5 button.colab-df-convert');\n",
              "        buttonEl.style.display =\n",
              "          google.colab.kernel.accessAllowed ? 'block' : 'none';\n",
              "\n",
              "        async function convertToInteractive(key) {\n",
              "          const element = document.querySelector('#df-f09d5f8e-530b-4bf9-b7e9-2575a393c6b5');\n",
              "          const dataTable =\n",
              "            await google.colab.kernel.invokeFunction('convertToInteractive',\n",
              "                                                     [key], {});\n",
              "          if (!dataTable) return;\n",
              "\n",
              "          const docLinkHtml = 'Like what you see? Visit the ' +\n",
              "            '<a target=\"_blank\" href=https://colab.research.google.com/notebooks/data_table.ipynb>data table notebook</a>'\n",
              "            + ' to learn more about interactive tables.';\n",
              "          element.innerHTML = '';\n",
              "          dataTable['output_type'] = 'display_data';\n",
              "          await google.colab.output.renderOutput(dataTable, element);\n",
              "          const docLink = document.createElement('div');\n",
              "          docLink.innerHTML = docLinkHtml;\n",
              "          element.appendChild(docLink);\n",
              "        }\n",
              "      </script>\n",
              "    </div>\n",
              "  </div>\n",
              "  "
            ]
          },
          "metadata": {},
          "execution_count": 70
        }
      ]
    },
    {
      "cell_type": "code",
      "source": [
        "import gradio as gr"
      ],
      "metadata": {
        "id": "2TEFM3ilqhVU"
      },
      "execution_count": 71,
      "outputs": []
    },
    {
      "cell_type": "code",
      "source": [
        "def test(year): \n",
        "  return df\n",
        "  URL = ('http://apis.data.go.kr/B552584/OzYlwsndOccrrncInforInqireSvc/getOzAdvsryOccrrncInfo?year=+year+&returnType=json&serviceKey=3x160Gd%2BbxNpxTuovD1nfR07GqjGYXCTNMU5xgp4FpL6Zi5NNQG6EqalDanqbauDjqPq5Jft18mruaJiS7w4aQ%3D%3D')\n",
        "  \n",
        "response = requests.get(URL)\n",
        "r = response.json()\n",
        "items = r['response']['body']['items']\n",
        "\n",
        "sn = [item['sn'] for item in items]\n",
        "districtName = [item['districtName'] for item in items]\n",
        "moveName = [item['moveName'] for item in items]\n",
        "issueVal = [item['issueVal'] for item in items]\n",
        "clearVal = [item['clearVal'] for item in items]\n",
        "maxVal = [item['maxVal'] for item in items]\n",
        "issueLvl = [item['issueLvl'] for item in items]\n",
        "\n",
        "sn = pd.Series(sn)\n",
        "districtName = pd.Series(districtName)\n",
        "moveName = pd.Series(moveName)\n",
        "issueVal = pd.Series(issueVal)   \n",
        "clearVal = pd.Series(clearVal)\n",
        "maxVal = pd.Series(maxVal)\n",
        "issueLvl = pd.Series(issueLvl)\n",
        "\n",
        "df = pd.DataFrame({'sn': sn, 'districtName' : districtName,'moveName': moveName, 'issueVal': issueVal, 'clearVal': clearVal, 'maxVal': maxVal ,'issueLvl' : issueLvl })\n",
        "  \n"
      ],
      "metadata": {
        "id": "R9HPUPl7q1M_"
      },
      "execution_count": 89,
      "outputs": []
    },
    {
      "cell_type": "code",
      "source": [
        "iface = gr.Interface(test, gr.inputs.Dropdown(['2017', '2018', '2019', '2020']), outputs=['dataframe'])\n",
        "iface.launch(debug=True)"
      ],
      "metadata": {
        "colab": {
          "base_uri": "https://localhost:8080/",
          "height": 664
        },
        "id": "HSWqU4AuqofC",
        "outputId": "1a0ed51f-36d8-459b-9ecb-8a2c181413ed"
      },
      "execution_count": 95,
      "outputs": [
        {
          "output_type": "stream",
          "name": "stdout",
          "text": [
            "Colab notebook detected. This cell will run indefinitely so that you can see errors and logs. To turn off, set debug=False in launch().\n",
            "Running on public URL: https://15328.gradio.app\n",
            "\n",
            "This share link expires in 72 hours. For free permanent hosting, check out Spaces (https://huggingface.co/spaces)\n"
          ]
        },
        {
          "output_type": "display_data",
          "data": {
            "text/plain": [
              "<IPython.lib.display.IFrame at 0x7f6f8e12c610>"
            ],
            "text/html": [
              "\n",
              "        <iframe\n",
              "            width=\"900\"\n",
              "            height=\"500\"\n",
              "            src=\"https://15328.gradio.app\"\n",
              "            frameborder=\"0\"\n",
              "            allowfullscreen\n",
              "        ></iframe>\n",
              "        "
            ]
          },
          "metadata": {}
        },
        {
          "output_type": "stream",
          "name": "stdout",
          "text": [
            "Keyboard interruption in main thread... closing server.\n"
          ]
        },
        {
          "output_type": "execute_result",
          "data": {
            "text/plain": [
              "(<fastapi.applications.FastAPI at 0x7f6f98911550>,\n",
              " 'http://127.0.0.1:7864/',\n",
              " 'https://15328.gradio.app')"
            ]
          },
          "metadata": {},
          "execution_count": 95
        }
      ]
    }
  ]
}