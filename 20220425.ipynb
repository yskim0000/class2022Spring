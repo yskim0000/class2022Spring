{
  "nbformat": 4,
  "nbformat_minor": 0,
  "metadata": {
    "colab": {
      "name": "20220425.ipynb",
      "provenance": [],
      "authorship_tag": "ABX9TyO1KYkplrhP0Hm6S8BANfHs",
      "include_colab_link": true
    },
    "kernelspec": {
      "name": "python3",
      "display_name": "Python 3"
    },
    "language_info": {
      "name": "python"
    }
  },
  "cells": [
    {
      "cell_type": "markdown",
      "metadata": {
        "id": "view-in-github",
        "colab_type": "text"
      },
      "source": [
        "<a href=\"https://colab.research.google.com/github/yskim0000/class2022Spring/blob/main/20220425.ipynb\" target=\"_parent\"><img src=\"https://colab.research.google.com/assets/colab-badge.svg\" alt=\"Open In Colab\"/></a>"
      ]
    },
    {
      "cell_type": "markdown",
      "source": [
        "1) Autocorrelation 자기상관함수\n",
        "\n",
        "동일한 시간구간으로 나눠진 벡터로 구성된 시계열 자료에서 현재의 개체수가 이전의 개체수와 어떻게 연관이 되어 있는가를 나타낸 것\n",
        "\n",
        "자신의 신호와 자신의 신호를 비교\n",
        "\n",
        "랜덤 변수에 대하여 임의의 시간만큼 편이된 랜덤 변수와의 곱을 구하고 이들의 시간 평균 구한 값\n",
        "\n",
        "\n",
        "\n",
        "2) Root Mean Square (RMS) 실효 출력\n",
        "\n",
        ": 파형 신호의 순시값(instantaneous value) 제곱을 한 주기간 평균한 것의 제곱근\n",
        "\n",
        "앰프리파이어 또는 스피커에서 지속적인 시그널의 출력이 가능한 평균 출력의 \n",
        "기준이 항상 균일하게 증폭이 되는 출력을 크기로 표시한 것 - \n",
        "Watt로 표기\n",
        "\n",
        "\n",
        "\n",
        "\n",
        "\n",
        "\n",
        "\n"
      ],
      "metadata": {
        "id": "EotutIELu0xI"
      }
    }
  ]
}